{
 "cells": [
  {
   "metadata": {},
   "cell_type": "markdown",
   "source": [
    "# Start!\n",
    "\n",
    "## Problem:\n",
    "Mamy doczynienia z serią danych numerycznych wraz z problemem klasyfikacji binarnej.\n",
    "\n",
    "Na podstawie opisów cech można wywnioskować, że są one w jakimś stopniu ze sobą powiązane - chociażby szerokość serca czy płuc z ich polem powierzchni.\n",
    "\n",
    "### Moja początkowa intuicja:\n",
    "1. Dokonać analizy PCA na cechach, by ograniczyć szum informacji\n",
    "2. Zastosować klasyfikację knn z cross-examination na hiperparametrze k, by uniknąć under lub overfittingu\n",
    "\n"
   ],
   "id": "de37de0f9d9941b0"
  },
  {
   "cell_type": "code",
   "id": "initial_id",
   "metadata": {
    "collapsed": true,
    "ExecuteTime": {
     "end_time": "2025-10-25T21:34:22.838406Z",
     "start_time": "2025-10-25T21:34:22.835144Z"
    }
   },
   "source": [
    "import pandas as pd\n",
    "from nltk.classify.svm import SvmClassifier\n",
    "from sklearn.ensemble import RandomForestClassifier\n",
    "from sklearn.linear_model import LogisticRegression, LinearRegression\n",
    "from sklearn.preprocessing import LabelEncoder\n",
    "from sklearn.decomposition import PCA\n",
    "from sklearn.model_selection import train_test_split\n",
    "from sklearn.neighbors import KNeighborsClassifier\n",
    "from sklearn.preprocessing import StandardScaler\n"
   ],
   "outputs": [],
   "execution_count": 236
  },
  {
   "metadata": {
    "ExecuteTime": {
     "end_time": "2025-10-25T21:34:22.864076Z",
     "start_time": "2025-10-25T21:34:22.858346Z"
    }
   },
   "cell_type": "code",
   "source": [
    "# Load DataFrame from CSV\n",
    "df = pd.read_csv(\"task_data.csv\", sep=\",\")\n",
    "\n",
    "# Fix commas in floats (if necessary)\n",
    "for col in df.columns:\n",
    "    if df[col].dtype == object:\n",
    "        df[col] = df[col].str.replace(\",\", \".\")\n",
    "\n",
    "# Convert columns except 'ID' and label to float\n",
    "cols_to_float = [col for col in df.columns if col not in ['ID', 'Cardiomegaly']]\n",
    "df[cols_to_float] = df[cols_to_float].astype(float)\n",
    "\n",
    "# Encode target labels if necessary\n",
    "le = LabelEncoder()\n",
    "y = le.fit_transform(df[\"Cardiomegaly\"])\n",
    "X = df.drop(columns=[\"ID\", \"Cardiomegaly\"]).values\n"
   ],
   "id": "bb42823626f085bb",
   "outputs": [],
   "execution_count": 237
  },
  {
   "metadata": {
    "ExecuteTime": {
     "end_time": "2025-10-25T21:35:47.243469Z",
     "start_time": "2025-10-25T21:35:47.238109Z"
    }
   },
   "cell_type": "code",
   "source": [
    "from imblearn.over_sampling import SMOTE\n",
    "\n",
    "smote = SMOTE(sampling_strategy='auto')\n",
    "X_resampled, y_resampled = smote.fit_resample(X, y)\n",
    "print(y_resampled.shape)\n"
   ],
   "id": "d7911964fb7d8b89",
   "outputs": [
    {
     "name": "stdout",
     "output_type": "stream",
     "text": [
      "(56,)\n"
     ]
    },
    {
     "name": "stderr",
     "output_type": "stream",
     "text": [
      "/Users/grzegorzprywatny/Library/Python/3.9/lib/python/site-packages/sklearn/base.py:474: FutureWarning: `BaseEstimator._validate_data` is deprecated in 1.6 and will be removed in 1.7. Use `sklearn.utils.validation.validate_data` instead. This function becomes public and is part of the scikit-learn developer API.\n",
      "  warnings.warn(\n"
     ]
    }
   ],
   "execution_count": 243
  },
  {
   "metadata": {
    "ExecuteTime": {
     "end_time": "2025-10-25T21:34:22.902483Z",
     "start_time": "2025-10-25T21:34:22.900556Z"
    }
   },
   "cell_type": "code",
   "source": [
    "pca = PCA(n_components=12)\n",
    "X_reduced = pca.fit_transform(X_resampled)\n"
   ],
   "id": "d41f8d6ac4555bb7",
   "outputs": [],
   "execution_count": 239
  },
  {
   "metadata": {
    "ExecuteTime": {
     "end_time": "2025-10-25T21:34:22.918095Z",
     "start_time": "2025-10-25T21:34:22.915961Z"
    }
   },
   "cell_type": "code",
   "source": [
    "from sklearn.ensemble import RandomForestClassifier\n",
    "from sklearn.model_selection import GridSearchCV\n",
    "\n",
    "# param_grid = {\n",
    "#     'n_estimators': [100, 200, 300, 500],\n",
    "#     'max_depth': [None, 10, 20, 50, 100, 200],\n",
    "#     'min_samples_split': [2, 5 ],\n",
    "#     'min_samples_leaf': [1, 2, 4],\n",
    "#     'max_features': ['sqrt', 'log2', None],\n",
    "# }\n",
    "#\n",
    "#\n",
    "X_train, X_test, y_train, y_test = train_test_split(X_reduced, y_resampled, test_size=0.2)\n",
    "# model = RandomForestClassifier()\n",
    "#\n",
    "# grid_search = GridSearchCV(\n",
    "#     estimator=model,\n",
    "#     param_grid=param_grid,\n",
    "#     cv=2,\n",
    "#     n_jobs=-1,\n",
    "#     scoring='accuracy'\n",
    "#     )\n",
    "#\n",
    "# grid_search.fit(X_train, y_train)\n",
    "#\n",
    "# print(\"Best Parameters:\", grid_search.best_params_)\n",
    "# print(\"Best Estimator:\", grid_search.best_estimator_)\n",
    "# print(\"Accuracy:\", grid_search.score(X_test, y_test))\n"
   ],
   "id": "7fa04e88ec8a308e",
   "outputs": [],
   "execution_count": 240
  },
  {
   "metadata": {},
   "cell_type": "markdown",
   "source": [
    ">Best Parameters: {'max_depth': 100, 'max_features': 'sqrt', 'min_samples_leaf': 1, 'min_samples_split': 5, 'n_estimators': 300}\n",
    ">Best Estimator: RandomForestClassifier(max_depth=100, min_samples_split=5, n_estimators=300)\n",
    "Accuracy: 0.833333333333333"
   ],
   "id": "59207a105e40bf10"
  },
  {
   "metadata": {
    "ExecuteTime": {
     "end_time": "2025-10-25T21:34:23.063403Z",
     "start_time": "2025-10-25T21:34:22.932266Z"
    }
   },
   "cell_type": "code",
   "source": [
    "model = RandomForestClassifier(max_depth=100, min_samples_split=5, n_estimators=300)\n",
    "model.fit(X_train, y_train)\n",
    "print(model.score(X_test, y_test))"
   ],
   "id": "ae531518f49478ac",
   "outputs": [
    {
     "name": "stdout",
     "output_type": "stream",
     "text": [
      "0.8333333333333334\n"
     ]
    }
   ],
   "execution_count": 241
  },
  {
   "metadata": {
    "ExecuteTime": {
     "end_time": "2025-10-25T21:34:23.084361Z",
     "start_time": "2025-10-25T21:34:23.083388Z"
    }
   },
   "cell_type": "code",
   "source": "",
   "id": "ee626ea008874832",
   "outputs": [],
   "execution_count": null
  }
 ],
 "metadata": {
  "kernelspec": {
   "display_name": "Python 3",
   "language": "python",
   "name": "python3"
  },
  "language_info": {
   "codemirror_mode": {
    "name": "ipython",
    "version": 2
   },
   "file_extension": ".py",
   "mimetype": "text/x-python",
   "name": "python",
   "nbconvert_exporter": "python",
   "pygments_lexer": "ipython2",
   "version": "2.7.6"
  }
 },
 "nbformat": 4,
 "nbformat_minor": 5
}

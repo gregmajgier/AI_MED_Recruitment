{
 "cells": [
  {
   "metadata": {},
   "cell_type": "markdown",
   "source": [
    "# Start!\n",
    "\n",
    "## Problem:\n",
    "Mamy doczynienia z serią danych numerycznych wraz z problemem klasyfikacji binarnej.\n",
    "\n",
    "Na podstawie opisów cech można wywnioskować, że są one w jakimś stopniu ze sobą powiązane - chociażby szerokość serca czy płuc z ich polem powierzchni.\n",
    "\n",
    "### Moja początkowa intuicja:\n",
    "1. Dokonać analizy PCA na cechach, by ograniczyć szum informacji\n",
    "2. Zastosować klasyfikację knn z cross-examination na hiperparametrze k, by uniknąć under lub overfittingu"
   ],
   "id": "de37de0f9d9941b0"
  },
  {
   "cell_type": "code",
   "id": "initial_id",
   "metadata": {
    "collapsed": true,
    "ExecuteTime": {
     "end_time": "2025-10-24T20:47:41.215230Z",
     "start_time": "2025-10-24T20:47:41.212585Z"
    }
   },
   "source": [
    "import pandas as pd\n",
    "from sklearn.preprocessing import LabelEncoder\n",
    "from sklearn.decomposition import PCA\n",
    "from sklearn.model_selection import train_test_split\n",
    "from sklearn.neighbors import KNeighborsClassifier\n"
   ],
   "outputs": [],
   "execution_count": 316
  },
  {
   "metadata": {
    "ExecuteTime": {
     "end_time": "2025-10-24T20:47:41.235936Z",
     "start_time": "2025-10-24T20:47:41.229739Z"
    }
   },
   "cell_type": "code",
   "source": [
    "\n",
    "# PCA Transformation (e.g. 5 components)\n",
    "\n",
    "X_train, X_test, y_train, y_test = train_test_split(X, y, random_state=42)\n",
    "\n",
    "clf = KNeighborsClassifier(n_neighbors=6)\n",
    "clf.fit(X_train, y_train)\n",
    "score = clf.score(X_test, y_test)\n",
    "print(\"Test accuracy:\", score)\n"
   ],
   "id": "99afcd389a69114e",
   "outputs": [
    {
     "name": "stdout",
     "output_type": "stream",
     "text": [
      "Test accuracy: 0.9\n"
     ]
    }
   ],
   "execution_count": 317
  },
  {
   "metadata": {
    "ExecuteTime": {
     "end_time": "2025-10-24T20:47:41.260770Z",
     "start_time": "2025-10-24T20:47:41.252748Z"
    }
   },
   "cell_type": "code",
   "source": [
    "\n",
    "# Load DataFrame from CSV\n",
    "df = pd.read_csv(\"task_data.csv\", sep=\",\")\n",
    "\n",
    "# Fix commas in floats (if necessary)\n",
    "for col in df.columns:\n",
    "    if df[col].dtype == object:\n",
    "        df[col] = df[col].str.replace(\",\", \".\")\n",
    "\n",
    "# Convert columns except 'ID' and label to float\n",
    "cols_to_float = [col for col in df.columns if col not in ['ID', 'Cardiomegaly']]\n",
    "df[cols_to_float] = df[cols_to_float].astype(float)\n",
    "\n",
    "# Encode target labels if necessary\n",
    "le = LabelEncoder()\n",
    "y = le.fit_transform(df[\"Cardiomegaly\"])\n",
    "X = df.drop(columns=[\"ID\", \"Cardiomegaly\"]).values\n"
   ],
   "id": "bb42823626f085bb",
   "outputs": [],
   "execution_count": 318
  },
  {
   "metadata": {
    "ExecuteTime": {
     "end_time": "2025-10-24T20:47:41.277349Z",
     "start_time": "2025-10-24T20:47:41.273779Z"
    }
   },
   "cell_type": "code",
   "source": [
    "pca = PCA(n_components=5)\n",
    "X_reduced = pca.fit_transform(X)\n",
    "print(X_reduced)"
   ],
   "id": "d41f8d6ac4555bb7",
   "outputs": [
    {
     "name": "stdout",
     "output_type": "stream",
     "text": [
      "[[-6.41271862e+03 -9.41817531e+03 -4.71082910e+02  3.80690727e+01\n",
      "  -3.53273424e+01]\n",
      " [ 1.28624633e+04 -4.98501129e+03  5.66605498e+02 -1.03543550e+02\n",
      "  -5.56022513e+01]\n",
      " [-1.48134780e+04 -1.36513316e+02  1.01354777e+03 -1.03622656e+03\n",
      "   1.14141325e+02]\n",
      " [ 1.39570895e+03  7.66910960e+03  6.98583785e+02 -4.56792884e+01\n",
      "  -1.99019637e+02]\n",
      " [ 4.19118234e+03  8.78995668e+02  4.77458343e+02 -6.97457243e+02\n",
      "   1.74172755e+01]\n",
      " [ 1.17516475e+04  1.18504448e+04  2.28669891e+03  2.09386779e+02\n",
      "   4.68838118e+01]\n",
      " [ 3.50473095e+04 -2.41862945e+02 -1.25478083e+03  3.37594562e+02\n",
      "  -1.32111064e+01]\n",
      " [ 1.58716446e+04  1.72606078e+03 -1.52773862e+03 -1.17499604e+02\n",
      "   1.44993255e+02]\n",
      " [ 1.79150924e+04 -7.17329469e+03 -8.56464516e+02 -1.11519135e+02\n",
      "  -8.48333073e+00]\n",
      " [ 2.40944159e+04  3.05238093e+03  4.06445976e+02 -7.06180438e+01\n",
      "   2.59739540e+02]\n",
      " [ 1.60487994e+03 -1.03806325e+03  1.19178444e+02 -5.16121687e+02\n",
      "  -3.22935162e+01]\n",
      " [ 3.52573830e+03 -2.94368941e+03 -3.30695915e+02 -2.25553299e+02\n",
      "  -1.74071592e+01]\n",
      " [ 1.25611871e+04 -5.94524902e+03  3.70108890e+02 -8.12460865e+01\n",
      "   7.69611038e+01]\n",
      " [-1.39616284e+04 -4.12681805e+03  9.08483270e+02  9.07808038e+02\n",
      "   1.14244547e+02]\n",
      " [ 1.08992850e+04  9.51132450e+03 -4.53022688e+02 -1.12776301e+02\n",
      "  -1.36756361e+02]\n",
      " [-1.12723457e+04 -7.65177434e+02  1.47115863e+03 -7.69665557e+01\n",
      "  -8.80797177e+01]\n",
      " [ 3.71672796e+03 -3.89412743e+03 -6.90452591e+02 -1.19721701e+02\n",
      "  -1.07824411e+02]\n",
      " [ 1.86089435e+04 -6.19758400e+03  1.20625729e+03 -3.01749718e+01\n",
      "   4.65237238e+01]\n",
      " [ 4.99129364e+03 -5.98074692e+03 -2.31220356e+02  2.79411849e+02\n",
      "  -1.14059337e+02]\n",
      " [-3.06503818e+04 -4.32793798e+03 -6.99487119e+01  3.59192645e+02\n",
      "   6.35142411e+01]\n",
      " [-1.56656749e+04 -6.11103373e+03 -6.64037352e+02  3.48874365e+01\n",
      "   4.30192064e+01]\n",
      " [-1.96805347e+04  3.34214166e+03  7.46412156e+02  3.20054052e+02\n",
      "  -7.58711530e+01]\n",
      " [-1.37017228e+04 -1.14861673e+04 -3.98027774e+01  4.77913275e+01\n",
      "  -5.36820940e+01]\n",
      " [-1.64671352e+04  5.40676240e+03 -9.92026381e+02 -1.01063689e+02\n",
      "   2.07007253e+02]\n",
      " [-2.99682946e+03  1.21103294e+04 -8.35267269e+02 -6.42341390e+02\n",
      "   1.73121308e+02]\n",
      " [-2.51778270e+04  9.49400504e+03 -1.07408103e+03  5.40668995e+01\n",
      "   8.92771116e+01]\n",
      " [ 4.67106859e+03  4.87721042e+03  9.59711626e+02  1.27017102e+02\n",
      "  -1.18207792e+02]\n",
      " [-3.45760121e+03  5.49526774e+03  1.67971026e+02  9.09756965e+01\n",
      "   8.90584793e+01]\n",
      " [-1.00086565e+04  1.08885937e+04 -1.14487406e+03  2.99469778e+02\n",
      "  -1.50345478e+02]\n",
      " [-2.48988594e+04 -3.80314709e+03  2.14357703e+02 -3.05722259e+02\n",
      "  -5.80696723e+01]\n",
      " [-5.87936820e+03 -6.59704050e+03 -2.31954822e+02 -3.60202953e+02\n",
      "   6.55060835e+00]\n",
      " [ 1.66620082e+04  3.64144798e+02  6.35331792e+01 -7.09547125e+01\n",
      "  -7.29348046e+01]\n",
      " [ 5.14807232e+03  5.42105685e+03  1.27695148e+02  1.15271068e+03\n",
      "  -5.56243570e-01]\n",
      " [-1.42594041e+03  2.61761596e+03  1.09374042e+02 -2.30633328e+02\n",
      "  -2.58445976e+02]\n",
      " [ 6.05526380e+03 -5.93092105e+03  7.85224194e+02  4.31546473e+02\n",
      "   2.53557487e+02]\n",
      " [-2.22536605e+03 -8.54787278e+02 -1.22946745e+03  5.62076728e+02\n",
      "  -1.37913352e+01]\n",
      " [ 7.12213527e+03 -2.74809622e+03 -6.01887621e+02 -1.96036766e+02\n",
      "  -1.36041559e+02]]\n"
     ]
    }
   ],
   "execution_count": 319
  },
  {
   "metadata": {
    "ExecuteTime": {
     "end_time": "2025-10-24T20:47:41.299990Z",
     "start_time": "2025-10-24T20:47:41.294507Z"
    }
   },
   "cell_type": "code",
   "source": [
    "X_train, X_test, y_train, y_test = train_test_split(X, y, random_state=42)\n",
    "\n",
    "clf = KNeighborsClassifier(n_neighbors=6)\n",
    "clf.fit(X_train, y_train)\n",
    "score = clf.score(X_test, y_test)\n",
    "print(\"Test accuracy:\", score)\n"
   ],
   "id": "7fa04e88ec8a308e",
   "outputs": [
    {
     "name": "stdout",
     "output_type": "stream",
     "text": [
      "Test accuracy: 0.9\n"
     ]
    }
   ],
   "execution_count": 320
  },
  {
   "metadata": {
    "ExecuteTime": {
     "end_time": "2025-10-24T20:47:41.332935Z",
     "start_time": "2025-10-24T20:47:41.331761Z"
    }
   },
   "cell_type": "code",
   "source": "",
   "id": "ae531518f49478ac",
   "outputs": [],
   "execution_count": null
  }
 ],
 "metadata": {
  "kernelspec": {
   "display_name": "Python 3",
   "language": "python",
   "name": "python3"
  },
  "language_info": {
   "codemirror_mode": {
    "name": "ipython",
    "version": 2
   },
   "file_extension": ".py",
   "mimetype": "text/x-python",
   "name": "python",
   "nbconvert_exporter": "python",
   "pygments_lexer": "ipython2",
   "version": "2.7.6"
  }
 },
 "nbformat": 4,
 "nbformat_minor": 5
}

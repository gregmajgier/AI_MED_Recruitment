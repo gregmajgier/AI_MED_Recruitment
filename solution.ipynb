{
 "cells": [
  {
   "metadata": {},
   "cell_type": "markdown",
   "source": [
    "# Start!\n",
    "\n",
    "## Problem:\n",
    "Mamy doczynienia z serią danych numerycznych wraz z problemem klasyfikacji binarnej.\n",
    "\n",
    "Na podstawie opisów cech można wywnioskować, że są one w jakimś stopniu ze sobą powiązane - chociażby szerokość serca czy płuc z ich polem powierzchni.\n",
    "\n",
    "### Moja początkowa intuicja:\n",
    "1. Dokonać analizy PCA na cechach, by ograniczyć szum informacji\n",
    "2. Zastosować klasyfikację knn z cross-examination na hiperparametrze k, by uniknąć under lub overfittingu"
   ],
   "id": "de37de0f9d9941b0"
  },
  {
   "cell_type": "code",
   "id": "initial_id",
   "metadata": {
    "collapsed": true,
    "ExecuteTime": {
     "end_time": "2025-10-24T19:39:06.477458Z",
     "start_time": "2025-10-24T19:39:06.474560Z"
    }
   },
   "source": [
    "import pandas as pd\n",
    "import torch\n",
    "import numpy as np\n",
    "from numpy import dtype"
   ],
   "outputs": [],
   "execution_count": 77
  },
  {
   "metadata": {
    "ExecuteTime": {
     "end_time": "2025-10-24T20:23:00.496086Z",
     "start_time": "2025-10-24T20:23:00.485780Z"
    }
   },
   "cell_type": "code",
   "source": [
    "\n",
    "from torch.utils.data import Dataset\n",
    "\n",
    "class HeartParametersDataset(Dataset):\n",
    "    def __init__(self, csv_file):\n",
    "        df = pd.read_csv(csv_file, sep=\",\")\n",
    "        # Zamień przecinki na kropki w całym dataframe (dotyczy tylko stringów)\n",
    "        df = df.map(lambda x: str(x).replace(\",\", \".\") if isinstance(x, str) else x)\n",
    "        # Zamień wszystko (oprócz pierwszej kolumny, tj. ID, i ew. etykiety) na float\n",
    "        df = df.drop(columns=[\"ID\"]).astype(float)\n",
    "\n",
    "        self.labels = [torch.tensor(x) for x in df[\"Cardiomegaly\"].values]\n",
    "        self.data =  [torch.tensor(x) for x in df.drop(columns=[\"Cardiomegaly\"]).values]\n",
    "\n",
    "    def __len__(self):\n",
    "        return len(self.data)\n",
    "\n",
    "    def __getitem__(self, idx):\n",
    "        return self.data[idx], self.labels[idx]\n",
    "\n",
    "\n",
    "dataset = HeartParametersDataset(\"task_data.csv\")\n",
    "\n"
   ],
   "id": "bb42823626f085bb",
   "outputs": [
    {
     "data": {
      "text/plain": [
       "(tensor([ 1.7200e+02,  4.0500e+02,  4.2469e-01,  1.6824e+03,  3.1537e+03,\n",
       "         -6.3853e+02, -3.0424e-01,  6.8819e+01,  2.1345e-01,  6.7949e+02,\n",
       "          2.4898e+04,  7.5419e+04], dtype=torch.float64),\n",
       " tensor(0., dtype=torch.float64))"
      ]
     },
     "execution_count": 92,
     "metadata": {},
     "output_type": "execute_result"
    }
   ],
   "execution_count": 92
  },
  {
   "metadata": {
    "ExecuteTime": {
     "end_time": "2025-10-24T19:39:06.510822Z",
     "start_time": "2025-10-24T19:38:17.077757Z"
    }
   },
   "cell_type": "code",
   "source": [
    "\n",
    "\n",
    "U, S, V = torch.pca_lowrank(dataset.data, q=5, center=True)\n",
    "\n",
    "projected_data = torch.matmul(dataset.data, V[:, :5])\n",
    "\n",
    "reduced_dataset = torch.utils.data.TensorDataset(projected_data)\n",
    "reduced_loader = DataLoader(reduced_dataset, batch_size=32)\n",
    "\n",
    "print(reduced_loader[0])"
   ],
   "id": "d41f8d6ac4555bb7",
   "outputs": [
    {
     "ename": "TypeError",
     "evalue": "expected Tensor but got <class 'numpy.ndarray'>",
     "output_type": "error",
     "traceback": [
      "\u001B[0;31m---------------------------------------------------------------------------\u001B[0m",
      "\u001B[0;31mTypeError\u001B[0m                                 Traceback (most recent call last)",
      "Cell \u001B[0;32mIn[73], line 1\u001B[0m\n\u001B[0;32m----> 1\u001B[0m U, S, V \u001B[38;5;241m=\u001B[39m \u001B[43mtorch\u001B[49m\u001B[38;5;241;43m.\u001B[39;49m\u001B[43mpca_lowrank\u001B[49m\u001B[43m(\u001B[49m\u001B[43mdataset\u001B[49m\u001B[38;5;241;43m.\u001B[39;49m\u001B[43mdata\u001B[49m\u001B[43m,\u001B[49m\u001B[43m \u001B[49m\u001B[43mq\u001B[49m\u001B[38;5;241;43m=\u001B[39;49m\u001B[38;5;241;43m5\u001B[39;49m\u001B[43m,\u001B[49m\u001B[43m \u001B[49m\u001B[43mcenter\u001B[49m\u001B[38;5;241;43m=\u001B[39;49m\u001B[38;5;28;43;01mTrue\u001B[39;49;00m\u001B[43m)\u001B[49m\n\u001B[1;32m      3\u001B[0m projected_data \u001B[38;5;241m=\u001B[39m torch\u001B[38;5;241m.\u001B[39mmatmul(dataset\u001B[38;5;241m.\u001B[39mdata, V[:, :\u001B[38;5;241m5\u001B[39m])\n\u001B[1;32m      5\u001B[0m reduced_dataset \u001B[38;5;241m=\u001B[39m torch\u001B[38;5;241m.\u001B[39mutils\u001B[38;5;241m.\u001B[39mdata\u001B[38;5;241m.\u001B[39mTensorDataset(projected_data)\n",
      "File \u001B[0;32m~/Library/Python/3.9/lib/python/site-packages/torch/_lowrank.py:272\u001B[0m, in \u001B[0;36mpca_lowrank\u001B[0;34m(A, q, center, niter)\u001B[0m\n\u001B[1;32m    269\u001B[0m \u001B[38;5;28;01mif\u001B[39;00m \u001B[38;5;129;01mnot\u001B[39;00m center:\n\u001B[1;32m    270\u001B[0m     \u001B[38;5;28;01mreturn\u001B[39;00m _svd_lowrank(A, q, niter\u001B[38;5;241m=\u001B[39mniter, M\u001B[38;5;241m=\u001B[39m\u001B[38;5;28;01mNone\u001B[39;00m)\n\u001B[0;32m--> 272\u001B[0m \u001B[38;5;28;01mif\u001B[39;00m \u001B[43m_utils\u001B[49m\u001B[38;5;241;43m.\u001B[39;49m\u001B[43mis_sparse\u001B[49m\u001B[43m(\u001B[49m\u001B[43mA\u001B[49m\u001B[43m)\u001B[49m:\n\u001B[1;32m    273\u001B[0m     \u001B[38;5;28;01mif\u001B[39;00m \u001B[38;5;28mlen\u001B[39m(A\u001B[38;5;241m.\u001B[39mshape) \u001B[38;5;241m!=\u001B[39m \u001B[38;5;241m2\u001B[39m:\n\u001B[1;32m    274\u001B[0m         \u001B[38;5;28;01mraise\u001B[39;00m \u001B[38;5;167;01mValueError\u001B[39;00m(\u001B[38;5;124m\"\u001B[39m\u001B[38;5;124mpca_lowrank input is expected to be 2-dimensional tensor\u001B[39m\u001B[38;5;124m\"\u001B[39m)\n",
      "File \u001B[0;32m~/Library/Python/3.9/lib/python/site-packages/torch/_linalg_utils.py:18\u001B[0m, in \u001B[0;36mis_sparse\u001B[0;34m(A)\u001B[0m\n\u001B[1;32m     16\u001B[0m \u001B[38;5;28;01mif\u001B[39;00m \u001B[38;5;129;01mnot\u001B[39;00m torch\u001B[38;5;241m.\u001B[39mjit\u001B[38;5;241m.\u001B[39mis_scripting():\n\u001B[1;32m     17\u001B[0m     error_str \u001B[38;5;241m+\u001B[39m\u001B[38;5;241m=\u001B[39m \u001B[38;5;124mf\u001B[39m\u001B[38;5;124m\"\u001B[39m\u001B[38;5;124m but got \u001B[39m\u001B[38;5;132;01m{\u001B[39;00m\u001B[38;5;28mtype\u001B[39m(A)\u001B[38;5;132;01m}\u001B[39;00m\u001B[38;5;124m\"\u001B[39m\n\u001B[0;32m---> 18\u001B[0m \u001B[38;5;28;01mraise\u001B[39;00m \u001B[38;5;167;01mTypeError\u001B[39;00m(error_str)\n",
      "\u001B[0;31mTypeError\u001B[0m: expected Tensor but got <class 'numpy.ndarray'>"
     ]
    }
   ],
   "execution_count": 73
  },
  {
   "metadata": {},
   "cell_type": "code",
   "outputs": [],
   "execution_count": null,
   "source": "",
   "id": "7fa04e88ec8a308e"
  }
 ],
 "metadata": {
  "kernelspec": {
   "display_name": "Python 3",
   "language": "python",
   "name": "python3"
  },
  "language_info": {
   "codemirror_mode": {
    "name": "ipython",
    "version": 2
   },
   "file_extension": ".py",
   "mimetype": "text/x-python",
   "name": "python",
   "nbconvert_exporter": "python",
   "pygments_lexer": "ipython2",
   "version": "2.7.6"
  }
 },
 "nbformat": 4,
 "nbformat_minor": 5
}
